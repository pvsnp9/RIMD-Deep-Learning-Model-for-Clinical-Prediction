{
 "metadata": {
  "language_info": {
   "codemirror_mode": {
    "name": "ipython",
    "version": 3
   },
   "file_extension": ".py",
   "mimetype": "text/x-python",
   "name": "python",
   "nbconvert_exporter": "python",
   "pygments_lexer": "ipython3",
   "version": "3.9.1"
  },
  "orig_nbformat": 2,
  "kernelspec": {
   "name": "python3",
   "display_name": "Python 3.9.1 64-bit ('whiskey_pt': conda)"
  },
  "interpreter": {
   "hash": "7f1fe20136675b47db30784a64b23f2f74600804c7b298c8fa67f64368253755"
  }
 },
 "nbformat": 4,
 "nbformat_minor": 2,
 "cells": [
  {
   "cell_type": "code",
   "execution_count": 1,
   "metadata": {},
   "outputs": [],
   "source": [
    "import torch\n",
    "import torch.nn.functional as F\n",
    "import torch.nn as nn\n",
    "from torch.autograd import Variable\n",
    "from torch.nn.parameter import Parameter\n",
    "import pandas as pd\n",
    "import numpy as np \n",
    "from torch.utils.data import DataLoader, TensorDataset"
   ]
  },
  {
   "cell_type": "code",
   "execution_count": 5,
   "metadata": {},
   "outputs": [
    {
     "output_type": "stream",
     "name": "stdout",
     "text": [
      "HIdden:tensor([[[ 1.7462, -0.5954,  0.7553,  0.6501,  0.8006, -2.2307],\n         [ 1.5553,  1.2106, -0.9563, -1.2236,  1.1716, -1.4339],\n         [ 1.0396,  1.3256, -0.6869,  1.6385, -0.9129,  1.2746],\n         [ 0.1863,  0.7188, -1.3535, -0.6109,  0.1694,  0.9784],\n         [-0.2203, -1.2235,  0.1486, -0.8500,  1.8518, -0.2279],\n         [-1.6204,  1.8483,  1.6437,  1.6620,  0.5756, -0.9646],\n         [-0.6551,  0.1977, -2.2353,  1.1894,  1.0746,  0.2156],\n         [ 0.2231,  0.5377, -0.4263,  0.0363,  0.7730,  1.3986],\n         [ 1.9026, -0.3249,  0.0562, -0.1231,  0.3204, -0.6336],\n         [ 0.6508, -1.2108, -1.0998, -1.0883,  0.2115,  0.4118]],\n\n        [[-0.3534,  0.4275,  0.9304, -1.1601,  2.5188, -1.6865],\n         [ 2.0376,  1.3405, -1.0788, -1.3874, -1.1792, -0.2480],\n         [-1.1685,  0.3784,  0.6502, -1.5098, -0.7162,  1.2020],\n         [ 0.5478, -2.2329, -0.7143, -0.4796, -2.2443, -3.2966],\n         [-0.0405,  1.5318,  1.2591,  1.1839, -0.7724,  2.0853],\n         [ 0.1520,  0.4662,  0.1925,  0.4572, -0.7037,  0.0787],\n         [ 1.2468,  0.8654,  1.4227,  0.1822,  0.9932, -2.3633],\n         [ 0.5939,  1.8275,  0.8509,  1.1074,  0.2758,  0.3032],\n         [-0.7378,  0.6829, -0.8191, -1.5008,  0.1033,  0.0768],\n         [-0.5241,  0.3115,  0.4235, -0.1790,  0.3178, -1.3479]]]) \n\nbiases: tensor([-0.4772, -1.6024, -0.7325, -0.5126,  0.1417,  0.7940])\n"
     ]
    },
    {
     "output_type": "execute_result",
     "data": {
      "text/plain": [
       "tensor([[[ 1.2690, -2.1978,  0.0228,  0.1376,  0.9423, -1.4367],\n",
       "         [ 1.0781, -0.3919, -1.6889, -1.7362,  1.3133, -0.6399],\n",
       "         [ 0.5625, -0.2769, -1.4194,  1.1259, -0.7713,  2.0686],\n",
       "         [-0.2909, -0.8836, -2.0860, -1.1234,  0.3111,  1.7724],\n",
       "         [-0.6974, -2.8259, -0.5840, -1.3625,  1.9935,  0.5661],\n",
       "         [-2.0976,  0.2458,  0.9112,  1.1495,  0.7173, -0.1706],\n",
       "         [-1.1323, -1.4047, -2.9678,  0.6769,  1.2162,  1.0096],\n",
       "         [-0.2540, -1.0648, -1.1588, -0.4763,  0.9147,  2.1926],\n",
       "         [ 1.4255, -1.9274, -0.6764, -0.6357,  0.4621,  0.1604],\n",
       "         [ 0.1736, -2.8133, -1.8323, -1.6008,  0.3532,  1.2058]],\n",
       "\n",
       "        [[-0.8306, -1.1749,  0.1979, -1.6727,  2.6605, -0.8925],\n",
       "         [ 1.5604, -0.2619, -1.8114, -1.8999, -1.0375,  0.5460],\n",
       "         [-1.6456, -1.2241, -0.0823, -2.0224, -0.5745,  1.9960],\n",
       "         [ 0.0707, -3.8353, -1.4468, -0.9922, -2.1026, -2.5026],\n",
       "         [-0.5177, -0.0706,  0.5266,  0.6713, -0.6308,  2.8792],\n",
       "         [-0.3252, -1.1363, -0.5400, -0.0554, -0.5620,  0.8727],\n",
       "         [ 0.7697, -0.7370,  0.6902, -0.3303,  1.1349, -1.5693],\n",
       "         [ 0.1167,  0.2251,  0.1184,  0.5948,  0.4175,  1.0972],\n",
       "         [-1.2150, -0.9196, -1.5516, -2.0134,  0.2450,  0.8708],\n",
       "         [-1.0013, -1.2910, -0.3090, -0.6916,  0.4595, -0.5539]]])"
      ]
     },
     "metadata": {},
     "execution_count": 5
    }
   ],
   "source": [
    "hidden_states = torch.randn(2,10, 6)\n",
    "bias = torch.randn(6)\n",
    "print(f'HIdden:{hidden_states} \\n')\n",
    "print(f'biases: {bias}')\n",
    "sum_ = hidden_states + bias\n",
    "sum_"
   ]
  },
  {
   "cell_type": "code",
   "execution_count": 3,
   "metadata": {},
   "outputs": [
    {
     "output_type": "execute_result",
     "data": {
      "text/plain": [
       "array([[[ 0,  1],\n",
       "        [ 2,  3]],\n",
       "\n",
       "       [[ 4,  5],\n",
       "        [ 6,  7]],\n",
       "\n",
       "       [[ 8,  9],\n",
       "        [10, 11]],\n",
       "\n",
       "       [[12, 13],\n",
       "        [14, 15]],\n",
       "\n",
       "       [[16, 17],\n",
       "        [18, 19]]])"
      ]
     },
     "metadata": {},
     "execution_count": 3
    }
   ],
   "source": [
    "x = np.arange(20).reshape((5,2,2))\n",
    "x"
   ]
  },
  {
   "cell_type": "code",
   "execution_count": 6,
   "metadata": {},
   "outputs": [],
   "source": [
    "ds = np.load('../data/mimic_iii/test_dump/decay_data_20926.npz')"
   ]
  },
  {
   "cell_type": "code",
   "execution_count": 4,
   "metadata": {},
   "outputs": [],
   "source": [
    "a,b,c = torch.from_numpy(np.arange(5,dtype=float)),torch.from_numpy(np.arange(5,dtype=float)), torch.from_numpy(np.arange(5,dtype=float))\n",
    "y = torch.from_numpy(np.arange(5,dtype=float))\n",
    "\n",
    "d= TensorDataset(a,b,c,y)\n",
    "ld = DataLoader(d, batch_size=1, shuffle=True)"
   ]
  },
  {
   "cell_type": "code",
   "execution_count": 5,
   "metadata": {},
   "outputs": [
    {
     "output_type": "stream",
     "name": "stdout",
     "text": [
      "[tensor([1.], dtype=torch.float64), tensor([1.], dtype=torch.float64), tensor([1.], dtype=torch.float64), tensor([1.], dtype=torch.float64)]\n[tensor([0.], dtype=torch.float64), tensor([0.], dtype=torch.float64), tensor([0.], dtype=torch.float64), tensor([0.], dtype=torch.float64)]\n[tensor([4.], dtype=torch.float64), tensor([4.], dtype=torch.float64), tensor([4.], dtype=torch.float64), tensor([4.], dtype=torch.float64)]\n[tensor([2.], dtype=torch.float64), tensor([2.], dtype=torch.float64), tensor([2.], dtype=torch.float64), tensor([2.], dtype=torch.float64)]\n[tensor([3.], dtype=torch.float64), tensor([3.], dtype=torch.float64), tensor([3.], dtype=torch.float64), tensor([3.], dtype=torch.float64)]\n"
     ]
    }
   ],
   "source": [
    "for i in ld:\n",
    "    print(i)"
   ]
  },
  {
   "cell_type": "code",
   "execution_count": null,
   "metadata": {},
   "outputs": [],
   "source": []
  }
 ]
}