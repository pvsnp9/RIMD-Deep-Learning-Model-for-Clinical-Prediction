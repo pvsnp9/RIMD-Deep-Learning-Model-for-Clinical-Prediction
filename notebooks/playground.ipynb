{
 "metadata": {
  "language_info": {
   "codemirror_mode": {
    "name": "ipython",
    "version": 3
   },
   "file_extension": ".py",
   "mimetype": "text/x-python",
   "name": "python",
   "nbconvert_exporter": "python",
   "pygments_lexer": "ipython3",
   "version": "3.9.1"
  },
  "orig_nbformat": 2,
  "kernelspec": {
   "name": "python3",
   "language": "python",
   "display_name": "Python 3"
  },
  "interpreter": {
   "hash": "7f1fe20136675b47db30784a64b23f2f74600804c7b298c8fa67f64368253755"
  }
 },
 "nbformat": 4,
 "nbformat_minor": 2,
 "cells": [
  {
   "cell_type": "code",
   "execution_count": 292,
   "metadata": {},
   "outputs": [],
   "source": [
    "import torch\n",
    "import torch.nn.functional as F\n",
    "import torch.nn as nn\n",
    "from torch.autograd import Variable\n",
    "from torch.nn.parameter import Parameter\n",
    "import pandas as pd\n",
    "import numpy as np \n",
    "from torch.utils.data import DataLoader, TensorDataset\n",
    "from scipy.io import arff\n",
    "from sklearn.datasets import make_classification\n",
    "from sklearn.metrics import classification_report, confusion_matrix\n",
    "import matplotlib.pyplot as plt\n",
    "import seaborn as sns \n",
    "\n",
    "torch.manual_seed(0)\n",
    "torch.cuda.manual_seed(0)\n",
    "np.random.seed(0)"
   ]
  },
  {
   "cell_type": "code",
   "execution_count": 361,
   "outputs": [
    {
     "data": {
      "text/plain": "torch.Size([1000, 2])"
     },
     "execution_count": 361,
     "metadata": {},
     "output_type": "execute_result"
    }
   ],
   "source": [
    "X, y = make_classification(n_samples=1000, n_features=60,n_classes=2, n_clusters_per_class=2, weights=[0.9, 0.1], flip_y=0.1,  shuffle=True, random_state=1048)\n",
    "y = torch.nn.functional.one_hot(torch.tensor(y.tolist()),2)"
   ],
   "metadata": {
    "collapsed": false,
    "pycharm": {
     "name": "#%%\n"
    }
   }
  },
  {
   "cell_type": "code",
   "execution_count": 294,
   "metadata": {},
   "outputs": [
    {
     "name": "stdout",
     "output_type": "stream",
     "text": [
      "0:[866], 1:[134]\n"
     ]
    }
   ],
   "source": [
    "d = np.bincount(y)\n",
    "print(f'0:[{d[0]}], 1:[{d[1]}]')"
   ]
  },
  {
   "cell_type": "code",
   "execution_count": 295,
   "metadata": {},
   "outputs": [],
   "source": [
    "train_x, train_y = torch.from_numpy(X[:700]), torch.from_numpy(y[:700])\n",
    "val_x, val_y = torch.from_numpy(X[700:]), torch.from_numpy(y[700:])\n",
    "\n",
    "train_dataset = TensorDataset(train_x, train_y)\n",
    "val_dataset = TensorDataset(val_x, val_y)\n",
    "\n",
    "train_loader = DataLoader(train_dataset, batch_size=64, shuffle=True)\n",
    "val_loader = DataLoader(val_dataset, batch_size=300, shuffle=True)"
   ]
  },
  {
   "cell_type": "code",
   "execution_count": 296,
   "metadata": {},
   "outputs": [],
   "source": [
    "device = torch.device(\"cuda\") if torch.cuda.is_available() else torch.device(\"cpu\")"
   ]
  },
  {
   "cell_type": "code",
   "execution_count": 297,
   "metadata": {},
   "outputs": [],
   "source": [
    "class MyNN(nn.Module):\n",
    "    def __init__(self):\n",
    "        super().__init__()\n",
    "        self.l1 = nn.Linear(60, 10)\n",
    "        self.l2 = nn.Linear(10,2)\n",
    "        self.relu = nn.ReLU()\n",
    "        self.dropout = nn.Dropout(p=0.01)\n",
    "        self.out = nn.Softmax()\n",
    "        \n",
    "    def forward(self, data):\n",
    "        x = self.relu(self.l1(data))\n",
    "        x = self.dropout(x)\n",
    "        x = self.l2(x)\n",
    "        x = self.out(x)\n",
    "        return x\n"
   ]
  },
  {
   "cell_type": "code",
   "execution_count": 298,
   "metadata": {},
   "outputs": [],
   "source": [
    "def binary_acc(y_pred, y_test):\n",
    "    y_pred_tag = torch.round(y_pred)\n",
    "\n",
    "    correct_results_sum = (y_pred_tag == y_test).sum().float()\n",
    "    acc = correct_results_sum/y_test.shape[0]\n",
    "    acc = torch.round(acc * 100)\n",
    "    \n",
    "    return acc"
   ]
  },
  {
   "cell_type": "code",
   "execution_count": 299,
   "metadata": {},
   "outputs": [],
   "source": [
    "model = MyNN().to(device)"
   ]
  },
  {
   "cell_type": "code",
   "execution_count": 300,
   "metadata": {},
   "outputs": [],
   "source": [
    "epochs = 20 \n",
    "lr = 0.01\n",
    "optimizer = torch.optim.Adam(model.parameters(),lr=lr)\n",
    "criterion = nn.CrossEntropyLoss()"
   ]
  },
  {
   "cell_type": "code",
   "execution_count": 332,
   "metadata": {},
   "outputs": [
    {
     "name": "stdout",
     "output_type": "stream",
     "text": [
      "Epoch 01: | Loss: 0.20063 | Acc: 93.000\n",
      "Epoch 02: | Loss: 0.20158 | Acc: 92.818\n",
      "Epoch 03: | Loss: 0.19992 | Acc: 92.545\n",
      "Epoch 04: | Loss: 0.19943 | Acc: 92.909\n",
      "Epoch 05: | Loss: 0.19845 | Acc: 92.727\n",
      "Epoch 06: | Loss: 0.19929 | Acc: 92.909\n",
      "Epoch 07: | Loss: 0.19603 | Acc: 93.182\n",
      "Epoch 08: | Loss: 0.19890 | Acc: 93.000\n",
      "Epoch 09: | Loss: 0.19693 | Acc: 93.273\n",
      "Epoch 10: | Loss: 0.19522 | Acc: 93.091\n",
      "Epoch 11: | Loss: 0.19707 | Acc: 93.273\n",
      "Epoch 12: | Loss: 0.19560 | Acc: 92.636\n",
      "Epoch 13: | Loss: 0.19445 | Acc: 93.000\n",
      "Epoch 14: | Loss: 0.19404 | Acc: 93.455\n",
      "Epoch 15: | Loss: 0.19598 | Acc: 93.273\n",
      "Epoch 16: | Loss: 0.19470 | Acc: 93.455\n",
      "Epoch 17: | Loss: 0.19392 | Acc: 93.182\n",
      "Epoch 18: | Loss: 0.19429 | Acc: 93.091\n",
      "Epoch 19: | Loss: 0.19326 | Acc: 93.182\n",
      "Epoch 20: | Loss: 0.18987 | Acc: 93.273\n"
     ]
    }
   ],
   "source": [
    "model.train()\n",
    "for e in range(1, epochs+1):\n",
    "    epoch_loss = 0\n",
    "    epoch_acc = 0\n",
    "    for X_batch, y_batch in train_loader:\n",
    "        X_batch, y_batch = X_batch.float().to(device), y_batch.float().to(device)\n",
    "        optimizer.zero_grad()\n",
    "        \n",
    "        y_pred = model(X_batch)\n",
    "        \n",
    "        loss = criterion(y_pred, y_batch.unsqueeze(1))\n",
    "        acc = binary_acc(y_pred, y_batch.unsqueeze(1))\n",
    "        \n",
    "        loss.backward()\n",
    "        optimizer.step()\n",
    "        \n",
    "        epoch_loss += loss.item()\n",
    "        epoch_acc += acc.item()\n",
    "        \n",
    "\n",
    "    print(f'Epoch {e+0:02}: | Loss: {epoch_loss/len(train_loader):.5f} | Acc: {epoch_acc/len(train_loader):.3f}')"
   ]
  },
  {
   "cell_type": "code",
   "execution_count": 333,
   "metadata": {},
   "outputs": [
    {
     "name": "stdout",
     "output_type": "stream",
     "text": [
      "              precision    recall  f1-score   support\n",
      "\n",
      "           0       0.92      0.97      0.95       265\n",
      "           1       0.63      0.34      0.44        35\n",
      "\n",
      "    accuracy                           0.90       300\n",
      "   macro avg       0.77      0.66      0.69       300\n",
      "weighted avg       0.88      0.90      0.89       300\n",
      "\n"
     ]
    },
    {
     "data": {
      "text/plain": "<Figure size 432x288 with 2 Axes>",
      "image/png": "[encoded data removed]"
     },
     "metadata": {
      "needs_background": "light"
     },
     "output_type": "display_data"
    }
   ],
   "source": [
    "model.eval()\n",
    "with torch.no_grad():\n",
    "    for x,y in val_loader:\n",
    "        x = x.float().to(device)\n",
    "        y_test_pred = model(x)\n",
    "        pred = torch.round(y_test_pred)\n",
    "        cf_matrix = confusion_matrix(y, pred.cpu().detach().numpy())\n",
    "        print(classification_report(y, pred.cpu().detach().numpy()))\n",
    "        sns.heatmap(cf_matrix, annot=True)"
   ]
  },
  {
   "cell_type": "code",
   "execution_count": 303,
   "metadata": {},
   "outputs": [],
   "source": [
    "def CB_loss(labels, logits, samples_per_cls, no_of_classes, beta):\n",
    "\n",
    "    effective_num = 1.0 - np.power(beta, samples_per_cls)\n",
    "    weights = (1.0 - beta) / np.array(effective_num)\n",
    "    weights = weights / np.sum(weights) * no_of_classes\n",
    "\n",
    "    # labels_one_hot = F.one_hot(labels, no_of_classes).float(\n",
    "\n",
    "    weights = torch.tensor(weights).float()\n",
    "    weights = weights.unsqueeze(0)\n",
    "    new_weights = []\n",
    "    for index in range(labels.shape[0]):\n",
    "        new_weights.append(weights[0,labels[index].int()].item())\n",
    "\n",
    "    labels = labels.unsqueeze(1).float()\n",
    "    weights = new_weights #weights.repeat(labels_one_hot.shape[0],1)[labels_one_hot] * labels_one_hot\n",
    "    weights = torch.from_numpy(np.array(weights)).to(device)\n",
    "    # weights = weights.sum(1)\n",
    "    weights = weights.unsqueeze(1)\n",
    "    # weights = weights.repeat(1,no_of_classes)\n",
    "    cb_loss = F.binary_cross_entropy_with_logits(input = logits,target = labels, weight = weights)\n",
    "    return cb_loss.to(device)"
   ]
  },
  {
   "cell_type": "code",
   "execution_count": 304,
   "metadata": {},
   "outputs": [
    {
     "name": "stdout",
     "output_type": "stream",
     "text": [
      "tensor([0, 1]) tensor([7, 2])\n"
     ]
    }
   ],
   "source": [
    "output, inverse_indices = torch.unique(torch.tensor([[0,1,0,1,0,0,0,0,0]], dtype=torch.long), sorted=True, return_counts=True)\n",
    "# ned to update things\n",
    "print(output, inverse_indices)"
   ]
  },
  {
   "cell_type": "code",
   "execution_count": 336,
   "outputs": [
    {
     "name": "stdout",
     "output_type": "stream",
     "text": [
      "Epoch 01: | Loss: 0.89332 | Acc: 40.273\n",
      "Epoch 02: | Loss: 0.89495 | Acc: 39.727\n",
      "Epoch 03: | Loss: 0.89506 | Acc: 41.091\n",
      "Epoch 04: | Loss: 0.89788 | Acc: 40.364\n",
      "Epoch 05: | Loss: 0.89922 | Acc: 40.000\n",
      "Epoch 06: | Loss: 0.89513 | Acc: 40.636\n",
      "Epoch 07: | Loss: 0.89735 | Acc: 40.818\n",
      "Epoch 08: | Loss: 0.90072 | Acc: 40.000\n",
      "Epoch 09: | Loss: 0.88795 | Acc: 40.636\n",
      "Epoch 10: | Loss: 0.87894 | Acc: 40.273\n",
      "Epoch 11: | Loss: 0.89845 | Acc: 40.727\n",
      "Epoch 12: | Loss: 0.89788 | Acc: 40.273\n",
      "Epoch 13: | Loss: 0.89870 | Acc: 40.455\n",
      "Epoch 14: | Loss: 0.89744 | Acc: 41.364\n",
      "Epoch 15: | Loss: 0.89598 | Acc: 40.182\n",
      "Epoch 16: | Loss: 0.89170 | Acc: 40.727\n",
      "Epoch 17: | Loss: 0.89566 | Acc: 41.091\n",
      "Epoch 18: | Loss: 0.89325 | Acc: 40.364\n",
      "Epoch 19: | Loss: 0.89733 | Acc: 40.545\n",
      "Epoch 20: | Loss: 0.87237 | Acc: 40.364\n",
      "Epoch 21: | Loss: 0.89153 | Acc: 40.091\n",
      "Epoch 22: | Loss: 0.89293 | Acc: 39.909\n",
      "Epoch 23: | Loss: 0.89858 | Acc: 40.727\n",
      "Epoch 24: | Loss: 0.88795 | Acc: 40.455\n",
      "Epoch 25: | Loss: 0.89032 | Acc: 41.000\n",
      "Epoch 26: | Loss: 0.89460 | Acc: 40.364\n",
      "Epoch 27: | Loss: 0.90096 | Acc: 41.000\n",
      "Epoch 28: | Loss: 0.89829 | Acc: 40.455\n",
      "Epoch 29: | Loss: 0.89651 | Acc: 40.455\n",
      "Epoch 30: | Loss: 0.89393 | Acc: 40.364\n",
      "Epoch 31: | Loss: 0.90037 | Acc: 40.455\n",
      "Epoch 32: | Loss: 0.89560 | Acc: 40.545\n",
      "Epoch 33: | Loss: 0.90139 | Acc: 40.909\n",
      "Epoch 34: | Loss: 0.90052 | Acc: 41.182\n",
      "Epoch 35: | Loss: 0.90012 | Acc: 41.091\n",
      "Epoch 36: | Loss: 0.89716 | Acc: 40.182\n",
      "Epoch 37: | Loss: 0.89797 | Acc: 40.818\n",
      "Epoch 38: | Loss: 0.89523 | Acc: 40.636\n",
      "Epoch 39: | Loss: 0.88907 | Acc: 40.818\n",
      "Epoch 40: | Loss: 0.89785 | Acc: 40.545\n",
      "Epoch 41: | Loss: 0.89438 | Acc: 40.727\n",
      "Epoch 42: | Loss: 0.89591 | Acc: 40.273\n",
      "Epoch 43: | Loss: 0.89816 | Acc: 40.455\n",
      "Epoch 44: | Loss: 0.90072 | Acc: 39.909\n",
      "Epoch 45: | Loss: 0.88768 | Acc: 40.909\n",
      "Epoch 46: | Loss: 0.89151 | Acc: 40.909\n",
      "Epoch 47: | Loss: 0.88836 | Acc: 40.273\n",
      "Epoch 48: | Loss: 0.88257 | Acc: 40.455\n",
      "Epoch 49: | Loss: 0.89622 | Acc: 39.909\n",
      "Epoch 50: | Loss: 0.88847 | Acc: 40.273\n",
      "Epoch 51: | Loss: 0.89910 | Acc: 40.727\n",
      "Epoch 52: | Loss: 0.89944 | Acc: 40.636\n",
      "Epoch 53: | Loss: 0.90101 | Acc: 40.364\n",
      "Epoch 54: | Loss: 0.90233 | Acc: 40.727\n",
      "Epoch 55: | Loss: 0.88716 | Acc: 41.455\n",
      "Epoch 56: | Loss: 0.90078 | Acc: 40.727\n",
      "Epoch 57: | Loss: 0.90314 | Acc: 40.364\n",
      "Epoch 58: | Loss: 0.89624 | Acc: 40.455\n",
      "Epoch 59: | Loss: 0.89911 | Acc: 40.909\n",
      "Epoch 60: | Loss: 0.89504 | Acc: 40.545\n",
      "Epoch 61: | Loss: 0.89926 | Acc: 41.182\n",
      "Epoch 62: | Loss: 0.88232 | Acc: 40.818\n",
      "Epoch 63: | Loss: 0.90321 | Acc: 40.818\n",
      "Epoch 64: | Loss: 0.89898 | Acc: 40.273\n",
      "Epoch 65: | Loss: 0.90079 | Acc: 40.455\n",
      "Epoch 66: | Loss: 0.90089 | Acc: 40.455\n",
      "Epoch 67: | Loss: 0.89914 | Acc: 40.364\n",
      "Epoch 68: | Loss: 0.89221 | Acc: 40.545\n",
      "Epoch 69: | Loss: 0.89051 | Acc: 40.636\n",
      "Epoch 70: | Loss: 0.89892 | Acc: 40.091\n",
      "Epoch 71: | Loss: 0.90104 | Acc: 40.364\n",
      "Epoch 72: | Loss: 0.89400 | Acc: 40.000\n",
      "Epoch 73: | Loss: 0.89720 | Acc: 40.727\n",
      "Epoch 74: | Loss: 0.89765 | Acc: 40.636\n",
      "Epoch 75: | Loss: 0.88514 | Acc: 41.727\n",
      "Epoch 76: | Loss: 0.89780 | Acc: 40.364\n",
      "Epoch 77: | Loss: 0.89779 | Acc: 40.182\n",
      "Epoch 78: | Loss: 0.89619 | Acc: 40.545\n",
      "Epoch 79: | Loss: 0.89345 | Acc: 40.818\n",
      "Epoch 80: | Loss: 0.89257 | Acc: 40.455\n",
      "Epoch 81: | Loss: 0.89043 | Acc: 40.091\n",
      "Epoch 82: | Loss: 0.89647 | Acc: 41.000\n",
      "Epoch 83: | Loss: 0.89908 | Acc: 40.364\n",
      "Epoch 84: | Loss: 0.89259 | Acc: 41.182\n",
      "Epoch 85: | Loss: 0.89620 | Acc: 40.818\n",
      "Epoch 86: | Loss: 0.90087 | Acc: 40.000\n",
      "Epoch 87: | Loss: 0.89448 | Acc: 40.636\n",
      "Epoch 88: | Loss: 0.90119 | Acc: 40.545\n",
      "Epoch 89: | Loss: 0.88672 | Acc: 40.909\n",
      "Epoch 90: | Loss: 0.89595 | Acc: 40.273\n",
      "Epoch 91: | Loss: 0.89224 | Acc: 40.818\n",
      "Epoch 92: | Loss: 0.90145 | Acc: 41.091\n",
      "Epoch 93: | Loss: 0.90040 | Acc: 41.091\n",
      "Epoch 94: | Loss: 0.89538 | Acc: 40.636\n",
      "Epoch 95: | Loss: 0.89207 | Acc: 40.364\n",
      "Epoch 96: | Loss: 0.89689 | Acc: 40.545\n",
      "Epoch 97: | Loss: 0.90134 | Acc: 40.727\n",
      "Epoch 98: | Loss: 0.89947 | Acc: 40.545\n",
      "Epoch 99: | Loss: 0.89997 | Acc: 41.182\n",
      "Epoch 100: | Loss: 0.89468 | Acc: 40.636\n",
      "Epoch 101: | Loss: 0.89145 | Acc: 41.182\n",
      "Epoch 102: | Loss: 0.88518 | Acc: 41.000\n",
      "Epoch 103: | Loss: 0.89853 | Acc: 40.000\n",
      "Epoch 104: | Loss: 0.89694 | Acc: 41.000\n",
      "Epoch 105: | Loss: 0.89820 | Acc: 40.727\n",
      "Epoch 106: | Loss: 0.87606 | Acc: 40.727\n",
      "Epoch 107: | Loss: 0.89512 | Acc: 40.455\n",
      "Epoch 108: | Loss: 0.89925 | Acc: 40.364\n",
      "Epoch 109: | Loss: 0.89034 | Acc: 40.273\n",
      "Epoch 110: | Loss: 0.89416 | Acc: 40.727\n",
      "Epoch 111: | Loss: 0.89922 | Acc: 41.000\n",
      "Epoch 112: | Loss: 0.89475 | Acc: 40.273\n",
      "Epoch 113: | Loss: 0.89745 | Acc: 40.545\n",
      "Epoch 114: | Loss: 0.90140 | Acc: 41.091\n",
      "Epoch 115: | Loss: 0.89846 | Acc: 41.091\n",
      "Epoch 116: | Loss: 0.88569 | Acc: 40.818\n",
      "Epoch 117: | Loss: 0.89009 | Acc: 40.364\n",
      "Epoch 118: | Loss: 0.90014 | Acc: 40.000\n",
      "Epoch 119: | Loss: 0.89362 | Acc: 41.364\n",
      "Epoch 120: | Loss: 0.89650 | Acc: 41.000\n",
      "Epoch 121: | Loss: 0.90030 | Acc: 41.455\n",
      "Epoch 122: | Loss: 0.89227 | Acc: 40.455\n",
      "Epoch 123: | Loss: 0.90009 | Acc: 40.273\n",
      "Epoch 124: | Loss: 0.89607 | Acc: 40.727\n",
      "Epoch 125: | Loss: 0.89780 | Acc: 40.545\n",
      "Epoch 126: | Loss: 0.88794 | Acc: 40.636\n",
      "Epoch 127: | Loss: 0.89606 | Acc: 40.636\n",
      "Epoch 128: | Loss: 0.89565 | Acc: 39.727\n",
      "Epoch 129: | Loss: 0.89876 | Acc: 40.091\n",
      "Epoch 130: | Loss: 0.89767 | Acc: 40.182\n",
      "Epoch 131: | Loss: 0.89045 | Acc: 40.545\n",
      "Epoch 132: | Loss: 0.88546 | Acc: 40.727\n",
      "Epoch 133: | Loss: 0.88648 | Acc: 41.182\n",
      "Epoch 134: | Loss: 0.89689 | Acc: 40.455\n",
      "Epoch 135: | Loss: 0.89445 | Acc: 40.545\n",
      "Epoch 136: | Loss: 0.89350 | Acc: 40.818\n",
      "Epoch 137: | Loss: 0.90174 | Acc: 40.273\n",
      "Epoch 138: | Loss: 0.89781 | Acc: 40.545\n",
      "Epoch 139: | Loss: 0.89567 | Acc: 40.636\n",
      "Epoch 140: | Loss: 0.89112 | Acc: 41.000\n",
      "Epoch 141: | Loss: 0.89801 | Acc: 40.455\n",
      "Epoch 142: | Loss: 0.90113 | Acc: 41.000\n",
      "Epoch 143: | Loss: 0.90014 | Acc: 41.545\n",
      "Epoch 144: | Loss: 0.90152 | Acc: 39.909\n",
      "Epoch 145: | Loss: 0.89501 | Acc: 40.273\n",
      "Epoch 146: | Loss: 0.89122 | Acc: 40.091\n",
      "Epoch 147: | Loss: 0.89988 | Acc: 40.455\n",
      "Epoch 148: | Loss: 0.89955 | Acc: 40.636\n",
      "Epoch 149: | Loss: 0.89717 | Acc: 40.636\n"
     ]
    }
   ],
   "source": [
    "model_1 = MyNN().to(device)\n",
    "model_1.train()\n",
    "for e in range(1, epochs+130):\n",
    "    epoch_loss = 0\n",
    "    epoch_acc = 0\n",
    "    for X_batch, y_batch in train_loader:\n",
    "        X_batch, y_batch = X_batch.float().to(device), y_batch.float().to(device)\n",
    "        optimizer.zero_grad()\n",
    "\n",
    "        y_pred = model_1(X_batch)\n",
    "\n",
    "        # loss = criterion(y_pred, y_batch.unsqueeze(1))\n",
    "        # CB_loss(labels, logits, samples_per_cls, no_of_classes, loss_type, beta, gamma):\n",
    "        output, samples_per_class = torch.unique(y_batch, sorted=True, return_counts=True)\n",
    "        samples_per_class = samples_per_class.detach().cpu().numpy()\n",
    "        loss = CB_loss(y_batch, y_pred,samples_per_class,2, 0.65)\n",
    "\n",
    "        acc = binary_acc(y_pred, y_batch.unsqueeze(1))\n",
    "\n",
    "        loss.backward()\n",
    "        optimizer.step()\n",
    "\n",
    "        epoch_loss += loss.item()\n",
    "        epoch_acc += acc.item()\n",
    "\n",
    "\n",
    "    print(f'Epoch {e+0:02}: | Loss: {epoch_loss/len(train_loader):.5f} | Acc: {epoch_acc/len(train_loader):.3f}')"
   ],
   "metadata": {
    "collapsed": false,
    "pycharm": {
     "name": "#%%\n"
    }
   }
  },
  {
   "cell_type": "code",
   "execution_count": 340,
   "outputs": [
    {
     "name": "stdout",
     "output_type": "stream",
     "text": [
      "              precision    recall  f1-score   support\n",
      "\n",
      "           0       0.89      0.31      0.46       265\n",
      "           1       0.12      0.71      0.21        35\n",
      "\n",
      "    accuracy                           0.36       300\n",
      "   macro avg       0.51      0.51      0.33       300\n",
      "weighted avg       0.80      0.36      0.43       300\n",
      "\n"
     ]
    },
    {
     "data": {
      "text/plain": "<Figure size 432x288 with 2 Axes>",
      "image/png": "[encoded data removed]"
     },
     "metadata": {
      "needs_background": "light"
     },
     "output_type": "display_data"
    }
   ],
   "source": [
    "\n",
    "model_1.eval()\n",
    "with torch.no_grad():\n",
    "    for x,y in val_loader:\n",
    "        x = x.float().to(device)\n",
    "        y_test_pred = model_1(x)\n",
    "        pred = torch.round(y_test_pred)\n",
    "        cf_matrix = confusion_matrix(y, pred.cpu().detach().numpy())\n",
    "        print(classification_report(y, pred.cpu().detach().numpy()))\n",
    "        sns.heatmap(cf_matrix, annot=True)\n"
   ],
   "metadata": {
    "collapsed": false,
    "pycharm": {
     "name": "#%%\n"
    }
   }
  }
 ]
}